{
 "cells": [
  {
   "cell_type": "code",
   "execution_count": null,
   "metadata": {},
   "outputs": [],
   "source": [
    "angka = [0] * 5\n",
    "\n",
    "angka[0] = 1\n",
    "angka[1] = 10\n",
    "angka[2] = 20\n",
    "angka[3] = 30\n",
    "angka[4] = 40\n",
    "\n",
    "print (\"index Array\")\n",
    "for i in range(5):\n",
    "    print(\"index array ke - [{}] = {}\".format(i,angka[i]))"
   ]
  }
 ],
 "metadata": {
  "language_info": {
   "name": "python"
  }
 },
 "nbformat": 4,
 "nbformat_minor": 2
}
