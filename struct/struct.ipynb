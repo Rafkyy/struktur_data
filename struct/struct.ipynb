{
 "cells": [
  {
   "cell_type": "code",
   "execution_count": null,
   "metadata": {},
   "outputs": [
    {
     "ename": "",
     "evalue": "",
     "output_type": "error",
     "traceback": [
      "\u001b[1;31mThe kernel failed to start due to an error with the 'pyzmq' module. Consider re-installing this module.\n",
      "\u001b[1;31mClick <a href='https://aka.ms/kernelFailuresPyzmq'>here</a> for more info."
     ]
    }
   ],
   "source": [
    "from collections import namedtuple"
   ]
  },
  {
   "cell_type": "code",
   "execution_count": null,
   "metadata": {},
   "outputs": [
    {
     "ename": "",
     "evalue": "",
     "output_type": "error",
     "traceback": [
      "\u001b[1;31mThe kernel failed to start due to an error with the 'pyzmq' module. Consider re-installing this module.\n",
      "\u001b[1;31mClick <a href='https://aka.ms/kernelFailuresPyzmq'>here</a> for more info."
     ]
    }
   ],
   "source": [
    "Mahasiswa = namedtuple('Mahasiswa', ['name','age','address'])"
   ]
  },
  {
   "cell_type": "code",
   "execution_count": null,
   "metadata": {},
   "outputs": [
    {
     "ename": "",
     "evalue": "",
     "output_type": "error",
     "traceback": [
      "\u001b[1;31mThe kernel failed to start due to an error with the 'pyzmq' module. Consider re-installing this module.\n",
      "\u001b[1;31mClick <a href='https://aka.ms/kernelFailuresPyzmq'>here</a> for more info."
     ]
    }
   ],
   "source": [
    "hs = Mahasiswa(name=\"Rafki Amirul\", age=20, address=\"Kota tangerang\")"
   ]
  },
  {
   "cell_type": "code",
   "execution_count": null,
   "metadata": {},
   "outputs": [
    {
     "ename": "",
     "evalue": "",
     "output_type": "error",
     "traceback": [
      "\u001b[1;31mThe kernel failed to start due to an error with the 'pyzmq' module. Consider re-installing this module.\n",
      "\u001b[1;31mClick <a href='https://aka.ms/kernelFailuresPyzmq'>here</a> for more info."
     ]
    }
   ],
   "source": [
    "print('Name : ', mhs.name)\n",
    "print('Age : ', mhs.age)\n",
    "print('Address : ', mhs.address)"
   ]
  }
 ],
 "metadata": {
  "kernelspec": {
   "display_name": "base",
   "language": "python",
   "name": "python3"
  },
  "language_info": {
   "name": "python",
   "version": "3.11.7"
  }
 },
 "nbformat": 4,
 "nbformat_minor": 2
}
